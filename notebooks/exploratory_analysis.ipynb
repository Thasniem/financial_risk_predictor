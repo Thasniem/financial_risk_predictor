{
 "cells": [
  {
   "cell_type": "code",
   "execution_count": null,
   "id": "499bfd52",
   "metadata": {},
   "outputs": [],
   "source": [
    "import pandas as pd\n",
    "import seaborn as sns\n",
    "import matplotlib.pyplot as plt\n"
   ]
  },
  {
   "cell_type": "code",
   "execution_count": null,
   "id": "be642be5",
   "metadata": {},
   "outputs": [],
   "source": [
    "\n",
    "train_df = pd.read_csv(\"../data/train.csv\")"
   ]
  },
  {
   "cell_type": "code",
   "execution_count": null,
   "id": "6b950164",
   "metadata": {},
   "outputs": [],
   "source": [
    "# Basic Info\n",
    "print(train_df.info())\n",
    "print(train_df.describe())"
   ]
  },
  {
   "cell_type": "code",
   "execution_count": null,
   "id": "ab38ec9d",
   "metadata": {},
   "outputs": [],
   "source": [
    "# Check missing values\n",
    "missing = train_df.isnull().sum()\n",
    "print(\"\\nMissing values per column:\\n\", missing[missing > 0])"
   ]
  },
  {
   "cell_type": "code",
   "execution_count": null,
   "id": "bbe024d4",
   "metadata": {},
   "outputs": [],
   "source": [
    "# Target distribution\n",
    "sns.countplot(x=\"Risk Profile\", data=train_df)\n",
    "plt.title(\"Distribution of Risk Profiles\")\n",
    "plt.show()\n"
   ]
  },
  {
   "cell_type": "code",
   "execution_count": null,
   "id": "20ff7685",
   "metadata": {},
   "outputs": [],
   "source": [
    "sns.boxplot(x=\"Risk Profile\", y=\"Age\", data=train_df)\n",
    "plt.title(\"Age vs. Risk Profile\")\n",
    "plt.show()"
   ]
  },
  {
   "cell_type": "code",
   "execution_count": null,
   "id": "59929dd4",
   "metadata": {},
   "outputs": [],
   "source": [
    "# Credit Score distribution\n",
    "sns.histplot(train_df[\"Credit Score\"], kde=True)\n",
    "plt.title(\"Credit Score Distribution\")\n",
    "plt.show()\n"
   ]
  },
  {
   "cell_type": "code",
   "execution_count": null,
   "id": "d6ff9f3d",
   "metadata": {},
   "outputs": [],
   "source": [
    "# Correlation heatmap\n",
    "corr = train_df.select_dtypes(include=[\"int64\", \"float64\"]).corr()\n",
    "plt.figure(figsize=(12, 10))\n",
    "sns.heatmap(corr, cmap=\"coolwarm\", annot=True, fmt=\".2f\")\n",
    "plt.title(\"Correlation Matrix\")\n",
    "plt.show()"
   ]
  },
  {
   "cell_type": "markdown",
   "id": "a6f6a25c",
   "metadata": {},
   "source": []
  }
 ],
 "metadata": {
  "kernelspec": {
   "display_name": "TF",
   "language": "python",
   "name": "tf"
  }
 },
 "nbformat": 4,
 "nbformat_minor": 5
}
